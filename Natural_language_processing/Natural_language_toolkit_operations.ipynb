{
 "cells": [
  {
   "cell_type": "markdown",
   "metadata": {},
   "source": [
    "# What is NL TK ?\n",
    "* It is a powerful python package that provides a set of diverse natural language algorithims. \n",
    "\n",
    "__Basics of NLP for text__\n",
    "     1. Sentence tokenization \n",
    "     2. Word tokenization \n",
    "     3. Text lemmatization and stemming \n",
    "     4. Stop words \n",
    "     5. Parts of speech tagging (POS)\n"
   ]
  },
  {
   "cell_type": "code",
   "execution_count": 2,
   "metadata": {},
   "outputs": [],
   "source": [
    "# import the NLTK library \n",
    "import nltk"
   ]
  },
  {
   "cell_type": "markdown",
   "metadata": {},
   "source": [
    "__Tokenization__\n",
    "* first step in text analysis. \n",
    "* breaks down the paragraph into smaller chunks = called tokens \n",
    "* token is a single entity = uilding bloacks for a paragraph or sentence. \n",
    "    1. sentence tokenization : breaks down a paragraph into sentences. \n",
    "    2. word tokenization : breaks down a sentence into words. "
   ]
  },
  {
   "cell_type": "markdown",
   "metadata": {},
   "source": [
    "__Sentence Tokenization__"
   ]
  },
  {
   "cell_type": "code",
   "execution_count": 3,
   "metadata": {},
   "outputs": [
    {
     "data": {
      "text/plain": [
       "['Hello Mr. Smith, how are you doing today?',\n",
       " 'The weather is great, and city is awesome.The sky is pinkish-blue.',\n",
       " \"You shouldn't eat cardboard\"]"
      ]
     },
     "execution_count": 3,
     "metadata": {},
     "output_type": "execute_result"
    }
   ],
   "source": [
    "# IMPORT SENT TOKENIZE \n",
    "\n",
    "from nltk.tokenize import sent_tokenize\n",
    "\n",
    "text_one = \"Hello Mr. Smith, how are you doing today? The weather is great, and city is awesome.The sky is pinkish-blue. You shouldn't eat cardboard\"\n",
    "\n",
    "tokenized_paragraph_one = sent_tokenize(text_one)\n",
    "\n",
    "tokenized_paragraph_one"
   ]
  },
  {
   "cell_type": "code",
   "execution_count": 4,
   "metadata": {},
   "outputs": [
    {
     "name": "stdout",
     "output_type": "stream",
     "text": [
      "1. Backgammon is one of the oldest known board games.\n",
      "2. Its history can be traced back nearly 5,000 years to archeological discoveries in the Middle East.\n",
      "3. It is a two player game where each player has fifteen checkers which move between twenty-four points according to the roll\n",
      "of two dice.\n"
     ]
    }
   ],
   "source": [
    "text_two = \"\"\"Backgammon is one of the oldest known board games. \n",
    "Its history can be traced back nearly 5,000 years to archeological discoveries in the Middle East. \n",
    "It is a two player game where each player has fifteen checkers which move between twenty-four points according to the roll\n",
    "of two dice.\n",
    "\"\"\"\n",
    "\n",
    "tokenized_paragraph_two = sent_tokenize(text_two)\n",
    "\n",
    "tokenized_paragraph_two \n",
    "\n",
    "for x in tokenized_paragraph_two:\n",
    "    a = tokenized_paragraph_two.index(x) +1\n",
    "    print(f\"{a}.\" ,x)"
   ]
  },
  {
   "cell_type": "code",
   "execution_count": null,
   "metadata": {},
   "outputs": [],
   "source": []
  },
  {
   "cell_type": "markdown",
   "metadata": {},
   "source": [
    "__Word Tokenization__"
   ]
  },
  {
   "cell_type": "code",
   "execution_count": 5,
   "metadata": {},
   "outputs": [
    {
     "data": {
      "text/plain": [
       "['Hello',\n",
       " 'Mr.',\n",
       " 'Smith',\n",
       " ',',\n",
       " 'how',\n",
       " 'are',\n",
       " 'you',\n",
       " 'doing',\n",
       " 'today',\n",
       " '?',\n",
       " 'The',\n",
       " 'weather',\n",
       " 'is',\n",
       " 'great',\n",
       " ',',\n",
       " 'and',\n",
       " 'city',\n",
       " 'is',\n",
       " 'awesome.The',\n",
       " 'sky',\n",
       " 'is',\n",
       " 'pinkish-blue',\n",
       " '.',\n",
       " 'You',\n",
       " 'should',\n",
       " \"n't\",\n",
       " 'eat',\n",
       " 'cardboard']"
      ]
     },
     "execution_count": 5,
     "metadata": {},
     "output_type": "execute_result"
    }
   ],
   "source": [
    "# IMPORT A WORD TOKENIZE \n",
    "from nltk.tokenize import word_tokenize\n",
    "\n",
    "tokenized_word_one = word_tokenize(text_one)\n",
    "\n",
    "tokenized_word_one\n",
    "\n",
    "# PRINT A SPECIFIC WORD AS IT IS IN A LIST \n",
    "# tokenized_word_one[6]\n",
    "\n",
    "# PRINT IN ONE SENTENCE \n",
    "# for x in tokenized_word_one:\n",
    "#     print(x, \"\", end = \"\")"
   ]
  },
  {
   "cell_type": "code",
   "execution_count": 6,
   "metadata": {},
   "outputs": [
    {
     "name": "stdout",
     "output_type": "stream",
     "text": [
      "Hello Mr. Smith , how are you doing today ? The weather is great , and city is awesome.The sky is pinkish-blue . You should n't eat cardboard "
     ]
    }
   ],
   "source": [
    " for x in tokenized_word_one:\n",
    "    print(x, \"\", end = \"\")"
   ]
  },
  {
   "cell_type": "code",
   "execution_count": 7,
   "metadata": {},
   "outputs": [],
   "source": [
    "# FREQUENY OF TOKENS \n",
    "from nltk.probability import FreqDist\n",
    "\n",
    "fdist = FreqDist(tokenized_word_one)"
   ]
  },
  {
   "cell_type": "code",
   "execution_count": 8,
   "metadata": {},
   "outputs": [
    {
     "data": {
      "text/plain": [
       "FreqDist({'is': 3, ',': 2, 'Hello': 1, 'Mr.': 1, 'Smith': 1, 'how': 1, 'are': 1, 'you': 1, 'doing': 1, 'today': 1, ...})"
      ]
     },
     "execution_count": 8,
     "metadata": {},
     "output_type": "execute_result"
    }
   ],
   "source": [
    "fdist"
   ]
  },
  {
   "cell_type": "code",
   "execution_count": 102,
   "metadata": {},
   "outputs": [
    {
     "data": {
      "text/plain": [
       "[('is', 3), (',', 2), ('Hello', 1)]"
      ]
     },
     "execution_count": 102,
     "metadata": {},
     "output_type": "execute_result"
    }
   ],
   "source": [
    "# MOST COMMON WORDS \n",
    "# () representes the top 3 numbers\n",
    "fdist.most_common(3)"
   ]
  },
  {
   "cell_type": "code",
   "execution_count": 12,
   "metadata": {},
   "outputs": [
    {
     "data": {
      "image/png": "[encoded data removed]",
      "text/plain": [
       "<Figure size 432x288 with 1 Axes>"
      ]
     },
     "metadata": {
      "needs_background": "light"
     },
     "output_type": "display_data"
    }
   ],
   "source": [
    "import matplotlib.pyplot as plt\n",
    "\n",
    "fdist.plot(cumulative=False)\n",
    "\n",
    "plt.show()"
   ]
  },
  {
   "cell_type": "code",
   "execution_count": null,
   "metadata": {},
   "outputs": [],
   "source": []
  },
  {
   "cell_type": "markdown",
   "metadata": {},
   "source": [
    "__Text Lemmatization and Stemming__\n",
    "* words that have different forms e.g drive, driving, drives\n",
    "* words that have similar meaning e.g nation, national, nationality.\n",
    "    \n",
    "    **we lemmentize to reduce inflection (chnage of how the word is expressed grammatically)**"
   ]
  },
  {
   "cell_type": "markdown",
   "metadata": {},
   "source": [
    "__STEMMING__\n",
    "* obtaining the root word from the given word \n",
    "* using an organized rule all tokens can be cut to obtain the root word. (**stem**)\n",
    "* stemming is purely rule based\n",
    "\n",
    "**basic rule: removing e.g (ing, s/es, ed) removing the suffix**\n",
    "\n",
    "* stemmer operates without the knowledge of the context \n",
    "e.g \n",
    "    1. sit = sitting, sat \n",
    "    2. connect = conecting, connection, connected\n",
    "    3. do = doing, done "
   ]
  },
  {
   "cell_type": "code",
   "execution_count": 13,
   "metadata": {},
   "outputs": [],
   "source": [
    "from nltk.stem import PorterStemmer\n",
    "\n",
    "ps = PorterStemmer()"
   ]
  },
  {
   "cell_type": "code",
   "execution_count": 37,
   "metadata": {},
   "outputs": [
    {
     "name": "stdout",
     "output_type": "stream",
     "text": [
      "sit\n",
      "connect\n",
      "eat\n",
      "regist\n",
      "registr\n",
      "do\n",
      "persist\n"
     ]
    }
   ],
   "source": [
    "w1 = \"sitting\"\n",
    "w2 = \"sat\"\n",
    "w3 = \"connection\"\n",
    "w4 = \"connected\"\n",
    "w5 = \"eating\"\n",
    "w6 = \"registered\"\n",
    "w7 = \"registration\"\n",
    "w8 = \"doing\"\n",
    "w9 = \"persistance\"\n",
    "\n",
    "\n",
    "w1_stem = ps.stem(w1)\n",
    "print(w1_stem)\n",
    "\n",
    "w4_stem = ps.stem(w4)\n",
    "print(w4_stem) \n",
    "\n",
    "w5_stem = ps.stem(w5)\n",
    "print(w5_stem)\n",
    "\n",
    "w6_stem = ps.stem(w6)\n",
    "print(w6_stem)\n",
    "\n",
    "w7_stem = ps.stem(w7)\n",
    "print(w7_stem)\n",
    "\n",
    "w8_stem = ps.stem(w8)\n",
    "print(w8_stem)\n",
    "\n",
    "w9_stem = ps.stem(w9)\n",
    "print(w9_stem)"
   ]
  },
  {
   "cell_type": "markdown",
   "metadata": {},
   "source": [
    "__LEMMATIZATION__\n",
    "* doing things properly with the use of **vocabulary** and **analysis of the word**\n",
    "* this involves a return of the root word = (**a LEMMA**)\n",
    "* makes use of the context of speech tagging \n",
    "\n",
    "Examples:\n",
    "\n",
    "The word “better” has “good” as its lemma. \n",
    "\n",
    "The word “play” is the base form for the word “playing”, \n",
    "\n",
    "The word “meeting” can be either the base form of a noun or a form of a verb (“to meet”) depending on the context; e.g., **“in our last meeting”** or **“We are meeting again tomorrow”**.\n",
    "\n",
    "**Unlike stemming, lemmatization attempts to select the correct lemma depending on context**"
   ]
  },
  {
   "cell_type": "code",
   "execution_count": 41,
   "metadata": {},
   "outputs": [],
   "source": [
    "from nltk.stem.wordnet import WordNetLemmatizer\n",
    "\n",
    "lem = WordNetLemmatizer()"
   ]
  },
  {
   "cell_type": "code",
   "execution_count": 66,
   "metadata": {},
   "outputs": [
    {
     "name": "stdout",
     "output_type": "stream",
     "text": [
      "fly\n",
      "go\n",
      "good\n",
      "register\n",
      "registration\n",
      "kenya\n",
      "build\n",
      "bad\n"
     ]
    }
   ],
   "source": [
    "r1 = \"flying\"\n",
    "r2 = \"went\"\n",
    "r3 = \"better\"\n",
    "r4 = \"registered\"\n",
    "r5 = \"registration\"\n",
    "r6 = \"kenya\"\n",
    "r7 = \"building\"\n",
    "r8 = \"worst\"\n",
    "\n",
    "# NOUN (n), VERB(v), ADJECTIVE(a)\n",
    "\n",
    "print(lem.lemmatize(r1, 'v'))\n",
    "print(lem.lemmatize(r2, 'v'))\n",
    "print(lem.lemmatize(r3, 'a'))\n",
    "print(lem.lemmatize(r4, 'v'))\n",
    "print(lem.lemmatize(r5, 'n'))\n",
    "print(lem.lemmatize(r6, 'n'))\n",
    "print(lem.lemmatize(r7, 'v'))\n",
    "print(lem.lemmatize(r8, 'a'))\n",
    "\n"
   ]
  },
  {
   "cell_type": "code",
   "execution_count": null,
   "metadata": {},
   "outputs": [],
   "source": []
  },
  {
   "cell_type": "markdown",
   "metadata": {},
   "source": [
    "## stop words \n",
    "* act as bridges = ensure that the sentences are grammatically correct \n",
    "* most repeated or common words in a paragraph \n",
    "* stops are filtered before processing of text. they remove the noise. \n",
    "\n"
   ]
  },
  {
   "cell_type": "code",
   "execution_count": 67,
   "metadata": {},
   "outputs": [],
   "source": [
    "# YOU CAN GENERATE YOUR OWN STOPWORDS \n",
    "ls_stopwords = [\"is\", \"are\", \"the\"]"
   ]
  },
  {
   "cell_type": "code",
   "execution_count": 69,
   "metadata": {},
   "outputs": [
    {
     "name": "stdout",
     "output_type": "stream",
     "text": [
      "['i', 'me', 'my', 'myself', 'we', 'our', 'ours', 'ourselves', 'you', \"you're\", \"you've\", \"you'll\", \"you'd\", 'your', 'yours', 'yourself', 'yourselves', 'he', 'him', 'his', 'himself', 'she', \"she's\", 'her', 'hers', 'herself', 'it', \"it's\", 'its', 'itself', 'they', 'them', 'their', 'theirs', 'themselves', 'what', 'which', 'who', 'whom', 'this', 'that', \"that'll\", 'these', 'those', 'am', 'is', 'are', 'was', 'were', 'be', 'been', 'being', 'have', 'has', 'had', 'having', 'do', 'does', 'did', 'doing', 'a', 'an', 'the', 'and', 'but', 'if', 'or', 'because', 'as', 'until', 'while', 'of', 'at', 'by', 'for', 'with', 'about', 'against', 'between', 'into', 'through', 'during', 'before', 'after', 'above', 'below', 'to', 'from', 'up', 'down', 'in', 'out', 'on', 'off', 'over', 'under', 'again', 'further', 'then', 'once', 'here', 'there', 'when', 'where', 'why', 'how', 'all', 'any', 'both', 'each', 'few', 'more', 'most', 'other', 'some', 'such', 'no', 'nor', 'not', 'only', 'own', 'same', 'so', 'than', 'too', 'very', 's', 't', 'can', 'will', 'just', 'don', \"don't\", 'should', \"should've\", 'now', 'd', 'll', 'm', 'o', 're', 've', 'y', 'ain', 'aren', \"aren't\", 'couldn', \"couldn't\", 'didn', \"didn't\", 'doesn', \"doesn't\", 'hadn', \"hadn't\", 'hasn', \"hasn't\", 'haven', \"haven't\", 'isn', \"isn't\", 'ma', 'mightn', \"mightn't\", 'mustn', \"mustn't\", 'needn', \"needn't\", 'shan', \"shan't\", 'shouldn', \"shouldn't\", 'wasn', \"wasn't\", 'weren', \"weren't\", 'won', \"won't\", 'wouldn', \"wouldn't\"]\n"
     ]
    }
   ],
   "source": [
    "# USING NLTK PREDEFINED STOPWORDS \n",
    "from nltk.corpus import stopwords\n",
    "\n",
    "print(stopwords.words(\"english\"))"
   ]
  },
  {
   "cell_type": "code",
   "execution_count": 70,
   "metadata": {},
   "outputs": [
    {
     "data": {
      "text/plain": [
       "['Backgammon',\n",
       " 'is',\n",
       " 'one',\n",
       " 'of',\n",
       " 'the',\n",
       " 'oldest',\n",
       " 'known',\n",
       " 'board',\n",
       " 'games',\n",
       " '.']"
      ]
     },
     "execution_count": 70,
     "metadata": {},
     "output_type": "execute_result"
    }
   ],
   "source": [
    "s1 = \"Backgammon is one of the oldest known board games.\"\n",
    "\n",
    "stop_words = set(stopwords.words(\"english\"))\n",
    "\n",
    "tokenized_s1 = word_tokenize(s1)\n",
    "\n",
    "tokenized_s1"
   ]
  },
  {
   "cell_type": "code",
   "execution_count": 73,
   "metadata": {},
   "outputs": [
    {
     "data": {
      "text/plain": [
       "['Backgammon', 'one', 'oldest', 'known', 'board', 'games', '.']"
      ]
     },
     "execution_count": 73,
     "metadata": {},
     "output_type": "execute_result"
    }
   ],
   "source": [
    "# REMOVE THE STOPWORDS \n",
    "new_list = []\n",
    "for i in tokenized_s1:\n",
    "    if i not in stop_words:\n",
    "        new_list.append(i)\n",
    "\n",
    "new_list"
   ]
  },
  {
   "cell_type": "code",
   "execution_count": 74,
   "metadata": {},
   "outputs": [
    {
     "data": {
      "text/plain": [
       "['Hello',\n",
       " 'Mr.',\n",
       " 'Smith',\n",
       " ',',\n",
       " 'how',\n",
       " 'are',\n",
       " 'you',\n",
       " 'doing',\n",
       " 'today',\n",
       " '?',\n",
       " 'The',\n",
       " 'weather',\n",
       " 'is',\n",
       " 'great',\n",
       " ',',\n",
       " 'and',\n",
       " 'city',\n",
       " 'is',\n",
       " 'awesome.The',\n",
       " 'sky',\n",
       " 'is',\n",
       " 'pinkish-blue',\n",
       " '.',\n",
       " 'You',\n",
       " 'should',\n",
       " \"n't\",\n",
       " 'eat',\n",
       " 'cardboard']"
      ]
     },
     "execution_count": 74,
     "metadata": {},
     "output_type": "execute_result"
    }
   ],
   "source": [
    "s2 = \"Hello Mr. Smith, how are you doing today? The weather is great, and city is awesome.The sky is pinkish-blue. You shouldn't eat cardboard\"\n",
    "\n",
    "stop_words = set(stopwords.words(\"english\"))\n",
    "\n",
    "tokenized_s2 = word_tokenize(s2)\n",
    "\n",
    "tokenized_s2"
   ]
  },
  {
   "cell_type": "code",
   "execution_count": 79,
   "metadata": {},
   "outputs": [
    {
     "data": {
      "text/plain": [
       "['Hello',\n",
       " 'Mr.',\n",
       " 'Smith',\n",
       " ',',\n",
       " 'today',\n",
       " '?',\n",
       " 'The',\n",
       " 'weather',\n",
       " 'great',\n",
       " ',',\n",
       " 'city',\n",
       " 'awesome.The',\n",
       " 'sky',\n",
       " 'pinkish-blue',\n",
       " '.',\n",
       " 'You',\n",
       " \"n't\",\n",
       " 'eat',\n",
       " 'cardboard']"
      ]
     },
     "execution_count": 79,
     "metadata": {},
     "output_type": "execute_result"
    }
   ],
   "source": [
    "new_list2 = []\n",
    "for i in tokenized_s2:\n",
    "    if i not in stop_words:\n",
    "        new_list2.append(i)\n",
    "        \n",
    "new_list2"
   ]
  },
  {
   "cell_type": "code",
   "execution_count": 83,
   "metadata": {},
   "outputs": [
    {
     "data": {
      "text/plain": [
       "['Hello',\n",
       " 'Mr.',\n",
       " 'Smith',\n",
       " ',',\n",
       " 'today',\n",
       " '?',\n",
       " 'The',\n",
       " 'weather',\n",
       " 'great',\n",
       " ',',\n",
       " 'city',\n",
       " 'awesome.The',\n",
       " 'sky',\n",
       " 'pinkish-blue',\n",
       " '.',\n",
       " 'You',\n",
       " \"n't\",\n",
       " 'eat',\n",
       " 'cardboard']"
      ]
     },
     "execution_count": 83,
     "metadata": {},
     "output_type": "execute_result"
    }
   ],
   "source": [
    "# USING COMPREHENSIONS \n",
    "new = [word for word in tokenized_s2 if not word in stop_words]\n",
    "new"
   ]
  },
  {
   "cell_type": "code",
   "execution_count": 98,
   "metadata": {},
   "outputs": [
    {
     "data": {
      "text/plain": [
       "['Hello',\n",
       " 'Mr.',\n",
       " 'Smith',\n",
       " 'today',\n",
       " 'The',\n",
       " 'weather',\n",
       " 'great',\n",
       " 'city',\n",
       " 'awesome.The',\n",
       " 'sky',\n",
       " 'pinkish-blue',\n",
       " 'You',\n",
       " 'eat',\n",
       " 'cardboard']"
      ]
     },
     "execution_count": 98,
     "metadata": {},
     "output_type": "execute_result"
    }
   ],
   "source": [
    "punctuation_stop_words = [',', '?', '.', \"n't\"]\n",
    "new_list2 = [word for word in tokenized_s2 if word not in stop_words and word not in punctuation_stop_words]\n",
    "new_list2"
   ]
  },
  {
   "cell_type": "code",
   "execution_count": 103,
   "metadata": {},
   "outputs": [
    {
     "data": {
      "text/plain": [
       "['Hello',\n",
       " 'Smith',\n",
       " 'today',\n",
       " 'The',\n",
       " 'weather',\n",
       " 'great',\n",
       " 'city',\n",
       " 'sky',\n",
       " 'You',\n",
       " 'eat',\n",
       " 'cardboard']"
      ]
     },
     "execution_count": 103,
     "metadata": {},
     "output_type": "execute_result"
    }
   ],
   "source": [
    "# REMOVING THE PUNCTUATION MARKS \n",
    "\n",
    "tokenized_s2_without_punct = [word for word in new_list2 if word.isalnum() ]\n",
    "tokenized_s2_without_punct"
   ]
  },
  {
   "cell_type": "markdown",
   "metadata": {},
   "source": [
    "## Partsofspeech tagging\n",
    "__primary goal__\n",
    "\n",
    "* to identify grammatical grouping of a given word \n",
    "* whether it is a **noun, pronoun, adjective, verb and adverbs**\n",
    "\n",
    "\n"
   ]
  },
  {
   "cell_type": "code",
   "execution_count": 99,
   "metadata": {},
   "outputs": [
    {
     "data": {
      "text/plain": [
       "['Hello',\n",
       " 'Mr.',\n",
       " 'Smith',\n",
       " 'today',\n",
       " 'The',\n",
       " 'weather',\n",
       " 'great',\n",
       " 'city',\n",
       " 'awesome.The',\n",
       " 'sky',\n",
       " 'pinkish-blue',\n",
       " 'You',\n",
       " 'eat',\n",
       " 'cardboard']"
      ]
     },
     "execution_count": 99,
     "metadata": {},
     "output_type": "execute_result"
    }
   ],
   "source": [
    "new_list2"
   ]
  },
  {
   "cell_type": "code",
   "execution_count": 100,
   "metadata": {},
   "outputs": [
    {
     "data": {
      "text/plain": [
       "[('Hello', 'NNP'),\n",
       " ('Mr.', 'NNP'),\n",
       " ('Smith', 'NNP'),\n",
       " ('today', 'NN'),\n",
       " ('The', 'DT'),\n",
       " ('weather', 'NN'),\n",
       " ('great', 'JJ'),\n",
       " ('city', 'NN'),\n",
       " ('awesome.The', 'NN'),\n",
       " ('sky', 'JJ'),\n",
       " ('pinkish-blue', 'NN'),\n",
       " ('You', 'PRP'),\n",
       " ('eat', 'VBP'),\n",
       " ('cardboard', 'JJ')]"
      ]
     },
     "execution_count": 100,
     "metadata": {},
     "output_type": "execute_result"
    }
   ],
   "source": [
    "nltk.pos_tag(new_list2)"
   ]
  },
  {
   "cell_type": "code",
   "execution_count": 101,
   "metadata": {},
   "outputs": [
    {
     "name": "stdout",
     "output_type": "stream",
     "text": [
      "Hello Mr. Smith today The weather great city awesome.The sky pinkish-blue You eat cardboard "
     ]
    }
   ],
   "source": [
    "for i in new_list2:\n",
    "    print(i, \"\", end= \"\")"
   ]
  },
  {
   "cell_type": "code",
   "execution_count": null,
   "metadata": {},
   "outputs": [],
   "source": []
  }
 ],
 "metadata": {
  "kernelspec": {
   "display_name": "Python 3",
   "language": "python",
   "name": "python3"
  },
  "language_info": {
   "codemirror_mode": {
    "name": "ipython",
    "version": 3
   },
   "file_extension": ".py",
   "mimetype": "text/x-python",
   "name": "python",
   "nbconvert_exporter": "python",
   "pygments_lexer": "ipython3",
   "version": "3.7.6"
  }
 },
 "nbformat": 4,
 "nbformat_minor": 4
}
