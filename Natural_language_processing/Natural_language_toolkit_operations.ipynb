{
 "cells": [
  {
   "cell_type": "markdown",
   "metadata": {},
   "source": [
    "# What is NL TK ?\n",
    "* It is a powerful python package that provides a set of diverse natural language algorithims. \n",
    "\n",
    "__Basics of NLP for text__\n",
    "     1. Sentence tokenization \n",
    "     2. Word tokenization \n",
    "     3. Text lemmatization and stemming \n",
    "     4. Stop words \n",
    "     5. Parts of speech tagging (POS)\n"
   ]
  },
  {
   "cell_type": "code",
   "execution_count": 9,
   "metadata": {},
   "outputs": [],
   "source": [
    "# import the NLTK library \n",
    "import nltk"
   ]
  },
  {
   "cell_type": "markdown",
   "metadata": {},
   "source": [
    "__Tokenization__\n",
    "* first step in text analysis. \n",
    "* breaks down the paragraph into smaller chunks = called tokens \n",
    "* token is a single entity = uilding bloacks for a paragraph or sentence. \n",
    "    1. sentence tokenization : breaks down a paragraph into sentences. \n",
    "    2. word tokenization : breaks down a sentence into words. "
   ]
  },
  {
   "cell_type": "markdown",
   "metadata": {},
   "source": [
    "__Sentence Tokenization__"
   ]
  },
  {
   "cell_type": "code",
   "execution_count": 10,
   "metadata": {},
   "outputs": [
    {
     "data": {
      "text/plain": [
       "['Hello Mr. Smith, how are you doing today?',\n",
       " 'The weather is great, and city is awesome.The sky is pinkish-blue.',\n",
       " \"You shouldn't eat cardboard\"]"
      ]
     },
     "execution_count": 10,
     "metadata": {},
     "output_type": "execute_result"
    }
   ],
   "source": [
    "# IMPORT SENT TOKENIZE \n",
    "\n",
    "from nltk.tokenize import sent_tokenize\n",
    "\n",
    "text_one = \"Hello Mr. Smith, how are you doing today? The weather is great, and city is awesome.The sky is pinkish-blue. You shouldn't eat cardboard\"\n",
    "\n",
    "tokenized_paragraph_one = sent_tokenize(text_one)\n",
    "\n",
    "tokenized_paragraph_one"
   ]
  },
  {
   "cell_type": "code",
   "execution_count": 11,
   "metadata": {},
   "outputs": [
    {
     "name": "stdout",
     "output_type": "stream",
     "text": [
      "1. Backgammon is one of the oldest known board games.\n",
      "2. Its history can be traced back nearly 5,000 years to archeological discoveries in the Middle East.\n",
      "3. It is a two player game where each player has fifteen checkers which move between twenty-four points according to the roll\n",
      "of two dice.\n"
     ]
    }
   ],
   "source": [
    "text_two = \"\"\"Backgammon is one of the oldest known board games. \n",
    "Its history can be traced back nearly 5,000 years to archeological discoveries in the Middle East. \n",
    "It is a two player game where each player has fifteen checkers which move between twenty-four points according to the roll\n",
    "of two dice.\n",
    "\"\"\"\n",
    "\n",
    "tokenized_paragraph_two = sent_tokenize(text_two)\n",
    "\n",
    "tokenized_paragraph_two \n",
    "\n",
    "for x in tokenized_paragraph_two:\n",
    "    a = tokenized_paragraph_two.index(x) +1\n",
    "    print(f\"{a}.\" ,x)"
   ]
  },
  {
   "cell_type": "code",
   "execution_count": null,
   "metadata": {},
   "outputs": [],
   "source": []
  },
  {
   "cell_type": "markdown",
   "metadata": {},
   "source": [
    "__Word Tokenization__"
   ]
  },
  {
   "cell_type": "code",
   "execution_count": 17,
   "metadata": {},
   "outputs": [
    {
     "data": {
      "text/plain": [
       "['Hello',\n",
       " 'Mr.',\n",
       " 'Smith',\n",
       " ',',\n",
       " 'how',\n",
       " 'are',\n",
       " 'you',\n",
       " 'doing',\n",
       " 'today',\n",
       " '?',\n",
       " 'The',\n",
       " 'weather',\n",
       " 'is',\n",
       " 'great',\n",
       " ',',\n",
       " 'and',\n",
       " 'city',\n",
       " 'is',\n",
       " 'awesome.The',\n",
       " 'sky',\n",
       " 'is',\n",
       " 'pinkish-blue',\n",
       " '.',\n",
       " 'You',\n",
       " 'should',\n",
       " \"n't\",\n",
       " 'eat',\n",
       " 'cardboard']"
      ]
     },
     "execution_count": 17,
     "metadata": {},
     "output_type": "execute_result"
    }
   ],
   "source": [
    "# IMPORT A WORD TOKENIZE \n",
    "from nltk.tokenize import word_tokenize\n",
    "\n",
    "tokenized_word_one = word_tokenize(text_one)\n",
    "\n",
    "tokenized_word_one\n",
    "\n",
    "# PRINT A SPECIFIC WORD AS IT IS IN A LIST \n",
    "# tokenized_word_one[6]\n",
    "\n",
    "# PRINT IN ONE SENTENCE WITHOUT SPACING\n",
    "# for x in tokenized_word_one:\n",
    "#     print(x, \"\", end,\"\")"
   ]
  },
  {
   "cell_type": "code",
   "execution_count": null,
   "metadata": {},
   "outputs": [],
   "source": []
  }
 ],
 "metadata": {
  "kernelspec": {
   "display_name": "Python 3",
   "language": "python",
   "name": "python3"
  },
  "language_info": {
   "codemirror_mode": {
    "name": "ipython",
    "version": 3
   },
   "file_extension": ".py",
   "mimetype": "text/x-python",
   "name": "python",
   "nbconvert_exporter": "python",
   "pygments_lexer": "ipython3",
   "version": "3.7.6"
  }
 },
 "nbformat": 4,
 "nbformat_minor": 4
}
